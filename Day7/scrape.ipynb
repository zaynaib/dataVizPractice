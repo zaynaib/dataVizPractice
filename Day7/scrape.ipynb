{
 "metadata": {
  "language_info": {
   "codemirror_mode": {
    "name": "ipython",
    "version": 3
   },
   "file_extension": ".py",
   "mimetype": "text/x-python",
   "name": "python",
   "nbconvert_exporter": "python",
   "pygments_lexer": "ipython3",
   "version": "3.7.5-final"
  },
  "orig_nbformat": 2,
  "kernelspec": {
   "name": "python3",
   "display_name": "Python 3",
   "language": "python"
  }
 },
 "nbformat": 4,
 "nbformat_minor": 2,
 "cells": [
  {
   "cell_type": "code",
   "execution_count": 1,
   "metadata": {},
   "outputs": [],
   "source": [
    "from splinter import Browser\n",
    "import time\n",
    "import requests\n",
    "from PIL import Image\n",
    "import os\n",
    "import csv\n",
    "import io\n",
    "import hashlib\n",
    "#browser = Browser('chrome', executable_path, headless=False)"
   ]
  },
  {
   "cell_type": "code",
   "execution_count": 2,
   "metadata": {},
   "outputs": [],
   "source": [
    "executable_path = {'executable_path': 'chromedriver.exe'}\n"
   ]
  },
  {
   "cell_type": "code",
   "execution_count": 3,
   "metadata": {},
   "outputs": [],
   "source": [
    "def scroll_to_end(driver,sleep_interactions):\n",
    "        driver.execute_script(\"window.scrollTo(0, document.body.scrollHeight);\")\n",
    "        time.sleep(sleep_interactions)\n",
    "\n",
    "        #selenium.time.sleep(sleep_between_interactions)    "
   ]
  },
  {
   "cell_type": "code",
   "execution_count": 4,
   "metadata": {},
   "outputs": [],
   "source": [
    "def fetch_images(path, query,s_interactions,max_links_to_fetch):\n",
    "\n",
    "    #open chrome driver\n",
    "    wd = Browser('chrome', path, headless=False) # defaults to firefox\n",
    "\n",
    "    #create query string\n",
    "    search_url = \"https://www.google.com/search?safe=off&site=&tbm=isch&source=hp&q={q}&oq={q}&gs_l=img\"\n",
    "    \n",
    "    #search for the query\n",
    "    wd.visit(search_url.format(q=query))\n",
    "\n",
    "    \n",
    "    #parameter set up\n",
    "    image_urls = []\n",
    "    image_count = 0\n",
    "    results_start = 0\n",
    "\n",
    "    while image_count < max_links_to_fetch:\n",
    "        scroll_to_end(wd,s_interactions)\n",
    "\n",
    "        # get all image thumbnail results\n",
    "        thumbnail_results = wd.find_by_css(\"img.Q4LuWd\")\n",
    "        number_results = len(thumbnail_results)\n",
    "        image_count += 1\n",
    "        \n",
    "        print(f\"Found: {number_results} search results. Extracting links from {results_start}:{number_results}\")\n",
    "        print(image_count)\n",
    "\n",
    "        for img in thumbnail_results[results_start:max_links_to_fetch]:\n",
    "            # try to click every thumbnail such that we can get the real image behind it\n",
    "            try:\n",
    "                img.click()\n",
    "                time.sleep(s_interactions)\n",
    "            except Exception:\n",
    "                continue\n",
    "\n",
    "            # extract image urls    \n",
    "            actual_images = wd.find_by_css('img.n3VNCb')\n",
    "            for actual_image in actual_images:\n",
    "                if actual_image['src'] and 'http' in actual_image['src']:\n",
    "                    image_urls.append(actual_image['src'])\n",
    "\n",
    "    #         image_count = len(image_urls)\n",
    "\n",
    "            if len(image_urls) >= max_links_to_fetch:\n",
    "                print(f\"Found: {len(image_urls)} image links, done!\")\n",
    "                break\n",
    "        else:\n",
    "            print(\"Found:\", len(image_urls), \"image links, looking for more ...\")\n",
    "            time.sleep(30)\n",
    "            return\n",
    "            load_more_button = wd.find_element_by_css_selector(\".mye4qd\")\n",
    "            if load_more_button:\n",
    "                wd.execute_script(\"document.querySelector('.mye4qd').click();\")\n",
    "\n",
    "        # move the result startpoint further down\n",
    "        results_start = len(thumbnail_results)\n",
    "        wd.quit()\n",
    "\n",
    "    return image_urls\n"
   ]
  },
  {
   "cell_type": "code",
   "execution_count": 8,
   "metadata": {},
   "outputs": [
    {
     "output_type": "stream",
     "name": "stdout",
     "text": [
      "working\n",
      "Found: 100 search results. Extracting links from 0:100\n",
      "1\n",
      "Found: 1 image links, done!\n"
     ]
    },
    {
     "output_type": "execute_result",
     "data": {
      "text/plain": [
       "{'https://i.ytimg.com/vi/MPV2METPeJU/maxresdefault.jpg'}"
      ]
     },
     "metadata": {},
     "execution_count": 8
    }
   ],
   "source": [
    "fetch_images(executable_path,\"Dogs\",60,1)"
   ]
  },
  {
   "cell_type": "code",
   "execution_count": 6,
   "metadata": {},
   "outputs": [],
   "source": [
    "def persist_image(folder_path,url,img_name):\n",
    "    try:\n",
    "        image_content = requests.get(url).content\n",
    "\n",
    "    except Exception as e:\n",
    "        print(f\"ERROR - Could not download {url} - {e}\")\n",
    "\n",
    "    try:\n",
    "        image_file = io.BytesIO(image_content)\n",
    "        image = Image.open(image_file).convert('RGB')\n",
    "\n",
    "        picture_path = img_name.replace(\" \", \"-\")\n",
    "        print(picture_path)\n",
    "\n",
    "        #file_path = os.path.join(folder_path,picture_path + '.jpg')\n",
    "        #file_path = os.path.join(folder_path,img_name + '.jpg')\n",
    "\n",
    "\n",
    "        if img_name is None:\n",
    "            file_path = os.path.join(folder_path,hashlib.sha1(image_content).hexdigest()[:10] + '.jpg')\n",
    "        else:\n",
    "            file_path = os.path.join(folder_path,picture_path + '.jpg')\n",
    "        with open(file_path, 'wb') as f:\n",
    "            image.save(f, \"JPEG\", quality=85)\n",
    "        print(f\"SUCCESS - saved {url} - as {file_path}\")\n",
    "    except Exception as e:\n",
    "        print(f\"ERROR - Could not save {url} - {e}\")"
   ]
  },
  {
   "cell_type": "code",
   "execution_count": 18,
   "metadata": {},
   "outputs": [
    {
     "output_type": "stream",
     "name": "stdout",
     "text": [
      "SUCCESS - saved https://upload.wikimedia.org/wikipedia/commons/thumb/c/c1/21_Savage_2018.jpg/1200px-21_Savage_2018.jpg - as ./test\\21_savage.jpg\n"
     ]
    }
   ],
   "source": [
    "persist_image(\"./test\", \"https://upload.wikimedia.org/wikipedia/commons/thumb/c/c1/21_Savage_2018.jpg/1200px-21_Savage_2018.jpg\",\"21_savage\")\n"
   ]
  },
  {
   "cell_type": "code",
   "execution_count": 7,
   "metadata": {},
   "outputs": [
    {
     "output_type": "stream",
     "name": "stdout",
     "text": [
      "Found: 100 search results. Extracting links from 0:100\n",
      "1\n",
      "Found: 1 image links, done!\n",
      "['https://ichef.bbci.co.uk/news/976/cpsprodpb/11DF7/production/_105470237_mediaitem105470234.jpg']\n",
      "21-Savage\n",
      "SUCCESS - saved https://ichef.bbci.co.uk/news/976/cpsprodpb/11DF7/production/_105470237_mediaitem105470234.jpg - as ./test\\21-Savage.jpg\n",
      "Found: 100 search results. Extracting links from 0:100\n",
      "1\n",
      "Found: 0 image links, looking for more ...\n",
      "None\n",
      "'NoneType' object is not subscriptable\n",
      "Found: 100 search results. Extracting links from 0:100\n",
      "1\n",
      "Found: 1 image links, done!\n",
      "['https://i.guim.co.uk/img/media/c1f430159c3e7e58c9b46098efde3dee7ba7d830/0_196_2515_1509/master/2515.jpg?width=1200&height=1200&quality=85&auto=format&fit=crop&s=f554bca9c12ca49c79264bce18b42472']\n",
      "2Pac\n",
      "SUCCESS - saved https://i.guim.co.uk/img/media/c1f430159c3e7e58c9b46098efde3dee7ba7d830/0_196_2515_1509/master/2515.jpg?width=1200&height=1200&quality=85&auto=format&fit=crop&s=f554bca9c12ca49c79264bce18b42472 - as ./test\\2Pac.jpg\n",
      "Found: 100 search results. Extracting links from 0:100\n",
      "1\n",
      "Found: 1 image links, done!\n",
      "['https://upload.wikimedia.org/wikipedia/commons/a/a3/50_Cent_AKA_Curtis_Jackson_%28cropped%29.jpg']\n",
      "50-Cent\n",
      "SUCCESS - saved https://upload.wikimedia.org/wikipedia/commons/a/a3/50_Cent_AKA_Curtis_Jackson_%28cropped%29.jpg - as ./test\\50-Cent.jpg\n",
      "Found: 100 search results. Extracting links from 0:100\n",
      "1\n",
      "Found: 1 image links, done!\n",
      "['https://upload.wikimedia.org/wikipedia/commons/5/53/Ab-Soul_-_These_Days_Tour_2014_%28cropped%29.jpg']\n",
      "Ab-Soul\n",
      "SUCCESS - saved https://upload.wikimedia.org/wikipedia/commons/5/53/Ab-Soul_-_These_Days_Tour_2014_%28cropped%29.jpg - as ./test\\Ab-Soul.jpg\n"
     ]
    }
   ],
   "source": [
    "file_path = os.path.join(\"hiphop3.csv\")\n",
    "rapper_urls= []\n",
    "with open(file_path) as rapper_data:\n",
    "    reader = csv.reader(rapper_data)\n",
    "    header = next(reader)\n",
    "\n",
    "    for row in reader:\n",
    "        #print(row[3])\n",
    "        rapper_name = f'{row[3]} rapper' \n",
    "        rapper_url = fetch_images(executable_path,rapper_name,3,1)\n",
    "        print(rapper_url)\n",
    "        try:\n",
    "            persist_image(\"./test\",rapper_url[0],rapper_name)\n",
    "\n",
    "        except Exception as e:\n",
    "            print(e)\n",
    "\n",
    "\n",
    "        #rapper_urls.append(rapper_url)\n",
    "\n",
    "#print(rapper_urls)\n",
    "\n",
    "\n"
   ]
  },
  {
   "cell_type": "code",
   "execution_count": null,
   "metadata": {},
   "outputs": [],
   "source": [
    "def search_and_download(search_term:str,driver_path:str,target_path='./images',number_images=5):\n",
    "    target_folder = os.path.join(target_path,'_'.join(search_term.lower().split(' ')))\n",
    "\n",
    "    if not os.path.exists(target_folder):\n",
    "        os.makedirs(target_folder)\n",
    "\n",
    "    with webdriver.Chrome(executable_path=driver_path) as wd:\n",
    "        res = fetch_image_urls(search_term, number_images, wd=wd, sleep_between_interactions=0.5)\n",
    "        \n",
    "    for elem in res:\n",
    "        persist_image(target_folder,elem)"
   ]
  }
 ]
}